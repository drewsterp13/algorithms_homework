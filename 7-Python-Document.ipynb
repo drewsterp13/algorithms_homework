{
 "cells": [
  {
   "cell_type": "markdown",
   "metadata": {},
   "source": [
    "# Algorithms, Binary Search & Linked Lists"
   ]
  },
  {
   "cell_type": "markdown",
   "metadata": {},
   "source": [
    "## Tasks Today:\n",
    " \n",
    "1) <b>In-Place Algorithms</b> <br>\n",
    " &nbsp;&nbsp;&nbsp;&nbsp; a) Syntax <br>\n",
    " &nbsp;&nbsp;&nbsp;&nbsp; a) Out of Place Algorithm <br>\n",
    " &nbsp;&nbsp;&nbsp;&nbsp; b) In-Class Exercise #1 <br>\n",
    "2) <b>Two Pointers</b> <br>\n",
    "3) <b>Linked Lists</b> <br>\n",
    "4) <b>Merge Sort</b> <br>\n",
    " &nbsp;&nbsp;&nbsp;&nbsp; a) Video on Algorithms <br>\n",
    " &nbsp;&nbsp;&nbsp;&nbsp; b) How it Works <br>\n",
    "5) <b>Exercises</b> <br>\n",
    " &nbsp;&nbsp;&nbsp;&nbsp; a) Exercise #1 - Reverse a List in Place Using an In-Place Algorithm <br>\n",
    " &nbsp;&nbsp;&nbsp;&nbsp; b) Exercise #2 - Find Distinct Words <br>\n",
    " &nbsp;&nbsp;&nbsp;&nbsp; c) Exercise #3 - Write a program to implement a Linear Search Algorithm. <br>"
   ]
  },
  {
   "cell_type": "markdown",
   "metadata": {},
   "source": [
    "## In-Place Algorithms"
   ]
  },
  {
   "cell_type": "markdown",
   "metadata": {},
   "source": [
    "#### Syntax"
   ]
  },
  {
   "cell_type": "code",
   "execution_count": 6,
   "metadata": {
    "collapsed": true
   },
   "outputs": [
    {
     "name": "stdout",
     "output_type": "stream",
     "text": [
      "Before swap: [20, 4, 10]\n",
      "After swap: [10, 4, 20]\n"
     ]
    }
   ],
   "source": [
    "def swap(a_list, x, y, z):\n",
    "    a_list[x], a_list[y], a_list[z] = a_list[z], a_list[y], a_list[x]\n",
    "    return a_list\n",
    "\n",
    "my_list = [20, 4, 10]\n",
    "print(f\"Before swap: {my_list}\")\n",
    "\n",
    "# swap(my_list, 2, 0, 1)\n",
    "swap(my_list, 0, 1, 2)\n",
    "print(f\"After swap: {my_list}\")"
   ]
  },
  {
   "cell_type": "markdown",
   "metadata": {},
   "source": [
    "#### Out of Place Algorithm"
   ]
  },
  {
   "cell_type": "code",
   "execution_count": 11,
   "metadata": {
    "collapsed": true
   },
   "outputs": [
    {
     "name": "stdout",
     "output_type": "stream",
     "text": [
      "[20, 4, 10]\n",
      "[10, 4, 20]\n",
      "Before  ['a', 'b', 'c', 'd']\n",
      "New Array  ['d', 'c', 'b', 'a']\n",
      "Original  ['a', 'b', 'c', 'd']\n"
     ]
    }
   ],
   "source": [
    "my_list_copy = my_list[::-1]\n",
    "print(my_list_copy)\n",
    "print(my_list)\n",
    "\n",
    "array = [\"a\", \"b\", \"c\", \"d\"]\n",
    "new_array = [\"a\"] * len(array)\n",
    "\n",
    "print(\"Before \", array)\n",
    "length = len(array) - 1\n",
    "\n",
    "for i in range(length):\n",
    "    new_array[i] = array[length - i]\n",
    "\n",
    "# array = new_array\n",
    "print(\"New Array \", new_array)\n",
    "print(\"Original \", array)"
   ]
  },
  {
   "cell_type": "markdown",
   "metadata": {},
   "source": [
    "#### In-Class Exercise #1 <br>\n",
    "<p>Write a function that takes in four arguments (list, index1, index2, index3), and swaps those three positions in the list passed in.</p>"
   ]
  },
  {
   "cell_type": "code",
   "execution_count": 23,
   "metadata": {
    "collapsed": true
   },
   "outputs": [
    {
     "name": "stdout",
     "output_type": "stream",
     "text": [
      "ORIGNAL: [10, 4, 3, 8, 4, 2, 6]\n",
      "REORGANIZED: [2, 4, 3, 8, 4, 10, 6]\n"
     ]
    }
   ],
   "source": [
    "list_1 = [10, 4, 3, 8, 4, 2, 6]\n",
    "\n",
    "def reorganize(li, a, b, c):\n",
    "    li[a], li[b], li[c] = li[c], li[b], li[a]\n",
    "    return li\n",
    "\n",
    "print(f\"ORIGNAL: {list_1}\")\n",
    "\n",
    "reorganize(list_1, 0, 2, 5)\n",
    "\n",
    "print(f\"REORGANIZED: {list_1}\") #If you noticed, it only switches three places of a list of 7"
   ]
  },
  {
   "cell_type": "markdown",
   "metadata": {},
   "source": [
    "## Two Pointers"
   ]
  },
  {
   "cell_type": "markdown",
   "metadata": {},
   "source": [
    "#### Syntax"
   ]
  },
  {
   "cell_type": "code",
   "execution_count": 24,
   "metadata": {
    "collapsed": true
   },
   "outputs": [
    {
     "name": "stdout",
     "output_type": "stream",
     "text": [
      "ORIGINAL: [0, 1, 2, 3, 4, 5, 6, 7]\n",
      "AFTER REORGANIZATION: [7, 6, 5, 4, 3, 2, 1, 0]\n"
     ]
    }
   ],
   "source": [
    "def twoPointers(alist):\n",
    "    left = 0\n",
    "    right = len(alist) - 1\n",
    "    while left <= right:\n",
    "        alist[left], alist[right] = alist[right], alist[left]\n",
    "        left += 1\n",
    "        right -= 1\n",
    "    return alist\n",
    "\n",
    "list_2 = [0, 1, 2, 3, 4, 5, 6, 7]\n",
    "print(f\"ORIGINAL: {list_2}\")\n",
    "twoPointers(list_2)\n",
    "print(f\"AFTER REORGANIZATION: {list_2}\")"
   ]
  },
  {
   "cell_type": "markdown",
   "metadata": {},
   "source": [
    "#### Video of Algorithms <br>\n",
    "<p>Watch the video about algorithms.</p>\n",
    "\n",
    "https://www.youtube.com/watch?v=Q9HjeFD62Uk\n",
    "\n",
    "https://www.youtube.com/watch?v=kPRA0W1kECg\n",
    "\n",
    "https://www.youtube.com/watch?v=ZZuD6iUe3Pc"
   ]
  },
  {
   "cell_type": "markdown",
   "metadata": {},
   "source": [
    "# Sorting Algorithms"
   ]
  },
  {
   "cell_type": "markdown",
   "metadata": {},
   "source": [
    "#### Bubble Sort\n",
    "\n",
    "Worst Case: O(n^2) Time - O(1) Space"
   ]
  },
  {
   "cell_type": "code",
   "execution_count": 30,
   "metadata": {
    "collapsed": true
   },
   "outputs": [
    {
     "data": {
      "text/plain": [
       "[1, 22, 34, 44, 55, 66, 88, 100]"
      ]
     },
     "execution_count": 30,
     "metadata": {},
     "output_type": "execute_result"
    }
   ],
   "source": [
    "def swap(i, j, array):\n",
    "    array[i], array[j] = array[j], array[i]\n",
    "\n",
    "def bubbleSort(array):\n",
    "    isSorted = False\n",
    "    while not isSorted:\n",
    "        isSorted = True\n",
    "        for num in range(len(array) - 1):\n",
    "            if array[num] > array[num+1]:\n",
    "                swap(num, num + 1, array)\n",
    "                isSorted = False\n",
    "    return array\n",
    "bubbleSort([22, 55, 88, 44, 1, 100, 34, 66])"
   ]
  },
  {
   "cell_type": "markdown",
   "metadata": {},
   "source": [
    "##### Insertion Sort\n",
    "\n",
    "Worst Case: O(n^2) time - O(1)space"
   ]
  },
  {
   "cell_type": "code",
   "execution_count": 33,
   "metadata": {
    "collapsed": true
   },
   "outputs": [
    {
     "data": {
      "text/plain": [
       "[1, 22, 34, 44, 55, 66, 88, 100]"
      ]
     },
     "execution_count": 33,
     "metadata": {},
     "output_type": "execute_result"
    }
   ],
   "source": [
    "def swap(i, j, array):\n",
    "    array[i], array[j] = array[j], array[i]\n",
    "\n",
    "def insertionSort(array):\n",
    "    for i in range(1, len(array)):\n",
    "        j = i\n",
    "        while j > 0 and array[j] < array[j-1]:\n",
    "            swap(j, j-1, array)\n",
    "            j -= 1\n",
    "    return array\n",
    "\n",
    "insertionSort([22, 55, 88, 44, 1, 100, 34, 66])"
   ]
  },
  {
   "cell_type": "markdown",
   "metadata": {},
   "source": [
    "## Merge Sort"
   ]
  },
  {
   "cell_type": "markdown",
   "metadata": {},
   "source": [
    "#### How it Works"
   ]
  },
  {
   "cell_type": "code",
   "execution_count": 36,
   "metadata": {
    "collapsed": true
   },
   "outputs": [
    {
     "name": "stdout",
     "output_type": "stream",
     "text": [
      "Splitting..  [17, 2, 12, 7, 4]\n",
      "Splitting..  [17, 2]\n",
      "Splitting..  [17]\n",
      "Merging...  [17]\n",
      "Splitting..  [2]\n",
      "Merging...  [2]\n",
      "Merging...  [2, 17]\n",
      "Splitting..  [12, 7, 4]\n",
      "Splitting..  [12]\n",
      "Merging...  [12]\n",
      "Splitting..  [7, 4]\n",
      "Splitting..  [7]\n",
      "Merging...  [7]\n",
      "Splitting..  [4]\n",
      "Merging...  [4]\n",
      "Merging...  [4, 7]\n",
      "Merging...  [4, 7, 12]\n",
      "Merging...  [2, 4, 7, 12, 17]\n"
     ]
    },
    {
     "data": {
      "text/plain": [
       "[2, 4, 7, 12, 17]"
      ]
     },
     "execution_count": 36,
     "metadata": {},
     "output_type": "execute_result"
    }
   ],
   "source": [
    "from random import randint\n",
    "\n",
    "nums = [randint(0, 20) for i in range(5)]\n",
    "\n",
    "def mergeSort(alist):\n",
    "    print(\"Splitting.. \", alist)\n",
    "    \n",
    "    #Step 1 divide the array into equal parts (as much as possible)\n",
    "    if len(alist) > 1:\n",
    "        mid = len(alist) // 2\n",
    "        lefthalf = alist[:mid]\n",
    "        righthalf = alist[mid:]\n",
    "        \n",
    "        #Recursively call mergeSort to perform splits if needed\n",
    "        #THEN merge once the splits are done\n",
    "        mergeSort(lefthalf)\n",
    "        mergeSort(righthalf)\n",
    "        \n",
    "        # indexpointers for our list\n",
    "        i = 0 # pointer for left half\n",
    "        j = 0 # pointer for right hald\n",
    "        k = 0 # pointer for main array\n",
    "        \n",
    "        # Step 2: compare the lefthalf and the righthalf\n",
    "        \n",
    "        while i < len(lefthalf) and j < len(righthalf):\n",
    "            if lefthalf[i] < righthalf[j]:\n",
    "                alist[k] = lefthalf[i]\n",
    "                i = i + 1\n",
    "            else:\n",
    "                alist[k] = righthalf[j]\n",
    "                j = j + 1\n",
    "            k = k + 1\n",
    "        \n",
    "        # Step 3 while merging, place items in the correct positions\n",
    "        while i < len(lefthalf):\n",
    "            alist[k] = lefthalf[i]\n",
    "            i = i + 1\n",
    "            k = k + 1\n",
    "        \n",
    "        while j < len(righthalf):\n",
    "            alist[k] = righthalf[j]\n",
    "            j = j + 1\n",
    "            k = k + 1\n",
    "    print(\"Merging... \", alist)\n",
    "    return alist\n",
    "\n",
    "mergeSort(nums)\n",
    "            \n",
    "        "
   ]
  },
  {
   "cell_type": "markdown",
   "metadata": {},
   "source": [
    "# Binary Search\n",
    "\n",
    "The Binary Search algorithm works by finding the number in the middle of a given array and comparing it to the target. Given that the array is sorted\n",
    "\n",
    "* The worst case run time for this algorithm is `O(log(n))`"
   ]
  },
  {
   "cell_type": "code",
   "execution_count": 37,
   "metadata": {
    "collapsed": true
   },
   "outputs": [
    {
     "data": {
      "text/plain": [
       "'The index is... 1'"
      ]
     },
     "execution_count": 37,
     "metadata": {},
     "output_type": "execute_result"
    }
   ],
   "source": [
    "def binarySearchHelperFunction(array, target, left, right):\n",
    "    while left <= right:\n",
    "        middle = (left + right) // 2\n",
    "        potentialMatch = array[middle]\n",
    "        if target == potentialMatch:\n",
    "            return f\"The index is... {middle}\"\n",
    "        elif target < potentialMatch:\n",
    "            right = middle - 1\n",
    "        else:\n",
    "            left = middle + 1\n",
    "    return -1\n",
    "\n",
    "def binarySearch(array, target):\n",
    "    return binarySearchHelperFunction(array, target, 0, len(array) - 1)\n",
    "\n",
    "binarySearch([22, 44, 55, 66, 88, 100], 44)"
   ]
  },
  {
   "cell_type": "markdown",
   "metadata": {},
   "source": [
    "# Exercises"
   ]
  },
  {
   "cell_type": "markdown",
   "metadata": {},
   "source": [
    "### Exercise #1 <br>\n",
    "<p>Reverse the list below in-place using an in-place algorithm.<br>For extra credit: Reverse the strings at the same time.</p>"
   ]
  },
  {
   "cell_type": "code",
   "execution_count": 1,
   "metadata": {},
   "outputs": [
    {
     "name": "stdout",
     "output_type": "stream",
     "text": [
      "Original \"words\": ['this', 'is', 'a', 'sentence', '.']\n",
      "Reversed \"words\": ['.', 'ecnetnes', 'a', 'si', 'siht']\n"
     ]
    }
   ],
   "source": [
    "words = ['this' , 'is', 'a', 'sentence', '.']\n",
    "\n",
    "print(f'Original \"words\": {words}')\n",
    "\n",
    "def convertString(alist, aword, k): # This seperates the word into chars (a single character) by converting a word into a list\n",
    "    wordlist = []\n",
    "    for char in aword:\n",
    "        wordlist.append(char)\n",
    "    reverseList(wordlist)\n",
    "    alist[k] = wordlist\n",
    "\n",
    "def combineString(alist, wordlist, k): # This combines the single characters into a word\n",
    "    combword = \"\"\n",
    "    for char in wordlist:\n",
    "        combword += char\n",
    "    alist[k] = combword\n",
    "\n",
    "def reverseList(alist):\n",
    "    i = 0 # left pointer\n",
    "    j = len(alist) - 1 # right pointer\n",
    "    isSorted = False\n",
    "    while not isSorted:\n",
    "        if i >= j:\n",
    "            isSorted = True\n",
    "            break\n",
    "        alist[i], alist[j] = alist[j], alist[i]\n",
    "        if type(alist[i]) == str: convertString(alist, alist[i], i)\n",
    "        if type(alist[j]) == str: convertString(alist, alist[j], j)\n",
    "        if type(alist[i]) == list: combineString(alist, alist[i], i)\n",
    "        if type(alist[j]) == list: combineString(alist, alist[j], j)\n",
    "        i += 1\n",
    "        j -= 1\n",
    "    return alist\n",
    "\n",
    "reverseList(words)\n",
    "\n",
    "print(f'Reversed \"words\": {words}')\n"
   ]
  },
  {
   "cell_type": "markdown",
   "metadata": {},
   "source": [
    "### Exercise #2 <br>\n",
    "<p>Create a function that counts how many distinct words are in the string below, then outputs a dictionary with the words as the key and the value as the amount of times that word appears in the string.<br>Should output:<br>{'a': 5,<br>\n",
    " 'abstract': 1,<br>\n",
    " 'an': 3,<br>\n",
    " 'array': 2, ... etc...</p>"
   ]
  },
  {
   "cell_type": "code",
   "execution_count": 151,
   "metadata": {
    "scrolled": true
   },
   "outputs": [
    {
     "data": {
      "text/plain": [
       "{'a': 5,\n",
       " 'abstract': 1,\n",
       " 'an': 3,\n",
       " 'array': 2,\n",
       " 'associative': 1,\n",
       " 'be': 1,\n",
       " 'buckets': 1,\n",
       " 'can': 2,\n",
       " 'compute': 1,\n",
       " 'computing': 1,\n",
       " 'data': 2,\n",
       " 'desired': 1,\n",
       " 'found': 1,\n",
       " 'from': 1,\n",
       " 'function': 1,\n",
       " 'hash': 4,\n",
       " 'implements': 1,\n",
       " 'in': 1,\n",
       " 'index': 1,\n",
       " 'into': 1,\n",
       " 'is': 1,\n",
       " 'keys': 1,\n",
       " 'map': 2,\n",
       " 'of': 1,\n",
       " 'or': 1,\n",
       " 'slots': 1,\n",
       " 'structure': 2,\n",
       " 'table': 2,\n",
       " 'that': 1,\n",
       " 'the': 1,\n",
       " 'to': 2,\n",
       " 'type': 1,\n",
       " 'uses': 1,\n",
       " 'value': 1,\n",
       " 'values': 1,\n",
       " 'which': 2}"
      ]
     },
     "execution_count": 151,
     "metadata": {},
     "output_type": "execute_result"
    }
   ],
   "source": [
    "import re\n",
    "a_text = 'In computing, a hash table hash map is a data structure which implements an associative array abstract data type, a structure that can map keys to values. A hash table uses a hash function to compute an index into an array of buckets or slots from which the desired value can be found'\n",
    "\n",
    "def scanWords(utext):\n",
    "    \n",
    "    scanned = {} #This creates a dictionary\n",
    "    exclusive_to_alphabet = re.compile(\"\\w+\")\n",
    "    #Removes non-alphabetical characters like commas and converts the words into a list\n",
    "    list_text = exclusive_to_alphabet.findall(utext)\n",
    "    \n",
    "    # This converts all of the words into lowercase\n",
    "    for i in range(len(list_text)):\n",
    "        lowercase = list_text[i].lower()\n",
    "        list_text[i] = lowercase\n",
    "    \n",
    "    list_text.sort() #This sorts the words alphabertically\n",
    "    \n",
    "    #This scans for the same word, basically you have two pointers, one sees the word and the second looks for the word\n",
    "    # before hand\n",
    "    for i in range(len(list_text)):\n",
    "        isUnique = True\n",
    "        for j in range(i):\n",
    "            if list_text[j] == list_text[i]: # This sees if the j pointer is the same as the i pointer\n",
    "                isUnique = False\n",
    "                break\n",
    "        if isUnique == True:\n",
    "            scanned[list_text[i]] = 1\n",
    "        else:\n",
    "            scanned[list_text[i]] += 1\n",
    "        \n",
    "    return scanned\n",
    "\n",
    "scanWords(a_text)"
   ]
  },
  {
   "cell_type": "markdown",
   "metadata": {},
   "source": [
    "## Exercise #3\n",
    "\n",
    "Write a program to implement a Linear Search Algorithm. Also in a comment, write the Time Complexity of the following algorithm.\n",
    "\n",
    "#### Hint: Linear Searching will require searching a list for a given number. "
   ]
  },
  {
   "cell_type": "code",
   "execution_count": 157,
   "metadata": {},
   "outputs": [
    {
     "name": "stdout",
     "output_type": "stream",
     "text": [
      "Found 70 at index 3\n"
     ]
    }
   ],
   "source": [
    "# Worst Case: O(len(nums_list))\n",
    "# Best Case: O(0)\n",
    "# 70 would be average-case since it is around the middle\n",
    "\n",
    "nums_list = [10, 23, 45, 70, 11, 15]\n",
    "target = 70\n",
    "\n",
    "def searchNum(alist, num):\n",
    "    for i in range(len(alist)):\n",
    "        if num == alist[i]:\n",
    "            print(\"Found\", num, \"at index\", i)\n",
    "            break\n",
    "\n",
    "searchNum(nums_list, target)"
   ]
  },
  {
   "cell_type": "code",
   "execution_count": null,
   "metadata": {},
   "outputs": [],
   "source": []
  },
  {
   "cell_type": "code",
   "execution_count": null,
   "metadata": {},
   "outputs": [],
   "source": []
  }
 ],
 "metadata": {
  "kernelspec": {
   "display_name": "Python 3 (ipykernel)",
   "language": "python",
   "name": "python3"
  },
  "language_info": {
   "codemirror_mode": {
    "name": "ipython",
    "version": 3
   },
   "file_extension": ".py",
   "mimetype": "text/x-python",
   "name": "python",
   "nbconvert_exporter": "python",
   "pygments_lexer": "ipython3",
   "version": "3.11.5"
  }
 },
 "nbformat": 4,
 "nbformat_minor": 2
}
